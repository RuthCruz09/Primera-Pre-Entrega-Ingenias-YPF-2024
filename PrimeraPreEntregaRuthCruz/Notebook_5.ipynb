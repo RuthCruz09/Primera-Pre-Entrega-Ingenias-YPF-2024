{
  "cells": [
    {
      "cell_type": "markdown",
      "metadata": {
        "id": "Gp2WddtV9IwG"
      },
      "source": [
        "# Programa Ingenias+ Data Science"
      ]
    },
    {
      "cell_type": "markdown",
      "metadata": {},
      "source": [
        "Primera Pre-Entrega"
      ]
    },
    {
      "cell_type": "markdown",
      "metadata": {},
      "source": [
        "Alumna: Ruth Cruz\n"
      ]
    },
    {
      "cell_type": "markdown",
      "metadata": {
        "id": "X03mviQS9IyL"
      },
      "source": [
        "# Ejercicios\n",
        "\n",
        "1. Crear un arreglo de ceros de longitud 12\n",
        "2. Crear un arreglo de longitud 10 con ceros en todas sus posiciones y un 10 en la posición número 5\n",
        "3. Crear un arreglo que tenga los números del 10 al 49\n",
        "4. Crear una arreglo 2d de shape (3, 3) que tenga los números del 0 al 8\n",
        "5. Crear un arreglo de números aleatorios de longitud 100 y obtener su media y varianza\n",
        "6. Calcular la media de un arreglo usando np.sum\n",
        "7. Calcular la varianza de un arreglo usando np.sum y np.mean\n",
        "8. Crear un array de números aleatorios usando np.random.randn.\n"
      ]
    },
    {
      "cell_type": "markdown",
      "metadata": {},
      "source": [
        "\n",
        "1. Crear un arreglo de ceros de longitud 12"
      ]
    },
    {
      "cell_type": "code",
      "execution_count": 2,
      "metadata": {},
      "outputs": [
        {
          "name": "stdout",
          "output_type": "stream",
          "text": [
            "[0. 0. 0. 0. 0. 0. 0. 0. 0. 0. 0. 0.]\n"
          ]
        }
      ],
      "source": [
        "import numpy as np\n",
        "arreglo_ceros = np.zeros(12)\n",
        "\n",
        "print(arreglo_ceros)"
      ]
    },
    {
      "cell_type": "markdown",
      "metadata": {},
      "source": [
        "2. Crear un arreglo de longitud 10 con ceros en todas sus posiciones y un 10 en la posición número 5"
      ]
    },
    {
      "cell_type": "code",
      "execution_count": 4,
      "metadata": {},
      "outputs": [
        {
          "name": "stdout",
          "output_type": "stream",
          "text": [
            "[ 0.  0.  0.  0. 10.  0.  0.  0.  0.  0.]\n"
          ]
        }
      ],
      "source": [
        "\n",
        "\n",
        "arreglo = np.zeros(10)\n",
        "arreglo[4] = 10\n",
        "\n",
        "print(arreglo)\n"
      ]
    },
    {
      "cell_type": "markdown",
      "metadata": {},
      "source": [
        "3. Crear un arreglo que tenga los números del 10 al 49"
      ]
    },
    {
      "cell_type": "code",
      "execution_count": 5,
      "metadata": {},
      "outputs": [
        {
          "name": "stdout",
          "output_type": "stream",
          "text": [
            "[10 11 12 13 14 15 16 17 18 19 20 21 22 23 24 25 26 27 28 29 30 31 32 33\n",
            " 34 35 36 37 38 39 40 41 42 43 44 45 46 47 48 49]\n"
          ]
        }
      ],
      "source": [
        "arreglo_num= np.arange(10, 50)\n",
        "\n",
        "print(arreglo_num)\n"
      ]
    },
    {
      "cell_type": "markdown",
      "metadata": {},
      "source": [
        "4. Crear una arreglo 2d de shape (3, 3) que tenga los números del 0 al 8"
      ]
    },
    {
      "cell_type": "code",
      "execution_count": 6,
      "metadata": {},
      "outputs": [
        {
          "name": "stdout",
          "output_type": "stream",
          "text": [
            "[[0 1 2]\n",
            " [3 4 5]\n",
            " [6 7 8]]\n"
          ]
        }
      ],
      "source": [
        "\n",
        "arreglo2d = np.arange(9).reshape(3, 3)\n",
        "\n",
        "print(arreglo2d)\n"
      ]
    },
    {
      "cell_type": "markdown",
      "metadata": {},
      "source": [
        "5. Crear un arreglo de números aleatorios de longitud 100 y obtener su media y varianza"
      ]
    },
    {
      "cell_type": "code",
      "execution_count": 7,
      "metadata": {},
      "outputs": [
        {
          "name": "stdout",
          "output_type": "stream",
          "text": [
            "La Media del arreglo es : 0.49012173616309485\n",
            "La Varianza del arreglo es: 0.07673759630524717\n"
          ]
        }
      ],
      "source": [
        "\n",
        "arreglo_aleat = np.random.rand(100)\n",
        "\n",
        "# Calcular la media del arreglo\n",
        "media = np.mean(arreglo_aleat)\n",
        "\n",
        "# Calcular la varianza del arreglo\n",
        "varianza = np.var(arreglo_aleat)\n",
        "\n",
        "print(f\"La Media del arreglo es : {media}\")\n",
        "print(f\"La Varianza del arreglo es: {varianza}\")\n"
      ]
    },
    {
      "cell_type": "markdown",
      "metadata": {},
      "source": [
        "6. Calcular la media de un arreglo usando np.sum"
      ]
    },
    {
      "cell_type": "code",
      "execution_count": 9,
      "metadata": {},
      "outputs": [
        {
          "name": "stdout",
          "output_type": "stream",
          "text": [
            "La Media del arreglo es: 3.0\n"
          ]
        }
      ],
      "source": [
        "\n",
        "arreglo = np.array([1, 2, 3, 4, 5])\n",
        "\n",
        "suma_t = np.sum(arreglo)\n",
        "\n",
        "media = suma_t / len(arreglo)\n",
        "\n",
        "print(f\"La Media del arreglo es: {media}\")\n"
      ]
    },
    {
      "cell_type": "markdown",
      "metadata": {},
      "source": [
        "7. Calcular la varianza de un arreglo usando np.sum y np.mean"
      ]
    },
    {
      "cell_type": "code",
      "execution_count": 10,
      "metadata": {},
      "outputs": [
        {
          "name": "stdout",
          "output_type": "stream",
          "text": [
            "Varianza del arreglo: 2.0\n"
          ]
        }
      ],
      "source": [
        "\n",
        "arreglo = np.array([1, 2, 3, 4, 5])\n",
        "\n",
        "# Paso 1: Hay q Calcular la media del arreglo\n",
        "media = np.mean(arreglo)\n",
        "\n",
        "# Paso 2: luego  las diferencias al cuadrado entre cada elemento y la media\n",
        "diferencias_cuadradas = (arreglo - media) ** 2\n",
        "\n",
        "# Paso 3: Sumar todas las diferencias al cuadrado\n",
        "suma_dif_cuadr = np.sum(diferencias_cuadradas)\n",
        "\n",
        "# Paso 4: Dividir por el número de elementos para obtener la varianza\n",
        "varianza = suma_dif_cuadr / len(arreglo)\n",
        "\n",
        "print(f\"La Varianza del array es: {varianza}\")\n"
      ]
    },
    {
      "cell_type": "markdown",
      "metadata": {},
      "source": [
        "Crear un array de números aleatorios usando np.random.randn."
      ]
    },
    {
      "cell_type": "code",
      "execution_count": 12,
      "metadata": {},
      "outputs": [
        {
          "name": "stdout",
          "output_type": "stream",
          "text": [
            "[ 1.45194729 -0.84826106 -0.35371144 -0.37135455 -0.22697783 -1.26720982\n",
            "  0.79619564  0.90540205  1.162504   -0.90800949 -0.97187273 -1.83700765\n",
            "  0.96414282  0.79291865  0.4774155  -0.87936908  0.15155887  0.79258063\n",
            " -0.37843757  0.10922383 -0.77339575  1.22555037 -1.24046669  0.60477334\n",
            "  0.07915389  1.56024694  1.33733121 -0.68405973 -0.87024842  0.26350561\n",
            "  0.63036625  0.39822901 -1.17487972 -0.63846277 -1.19256845 -0.22346971\n",
            "  0.50219177 -0.005003    0.07699222  0.6894012  -0.42013949 -0.22725114\n",
            "  0.23774375 -0.45401705  0.84902541 -0.98298088 -0.15794869 -0.47566727\n",
            " -0.75957946  0.43200678  1.39816708  0.89408835  1.25014677  0.38691794\n",
            "  1.66544425  0.92221075 -0.05600741 -0.97046974  1.22985039 -0.91103206\n",
            " -0.98695856 -0.23729611  0.17798031 -0.74350811 -0.15341348  0.7486337\n",
            " -0.90755983  0.85406061  1.23293412 -0.2182656  -0.76106568 -0.06016911\n",
            "  0.85601493 -1.42235252  1.21459494  1.8678284   0.04461112  0.33353088\n",
            "  0.08087997  0.1254948   0.97744176 -0.00618498  1.83790928  1.44230905\n",
            " -1.29918373  2.87915686 -0.45818856 -1.81773158  0.47746483 -0.18732974\n",
            "  1.80276113 -0.73714233  0.63895057 -0.10359444 -1.49074813  0.33623817\n",
            "  1.19670198 -0.24474741  0.42365968 -0.43389618  1.37717023  2.07653231\n",
            "  0.45491178  1.477613   -0.05904276 -0.10128033  0.04198014  0.82572031\n",
            "  0.9070793   0.01052967  0.96870991  0.35098042 -1.29263279  0.14127046\n",
            "  0.16054175  1.06556112  1.50432469  1.05116614 -0.19080377 -0.57820517\n",
            " -1.53624229 -0.24749477  0.74781531 -1.32344473 -0.62720963 -0.74528641\n",
            "  0.08476188 -1.68985624  0.27649724  0.4105391  -0.6079783  -0.36863766\n",
            " -2.24608791 -0.04364868 -0.79491655 -0.57076132  0.53868843 -0.20884008\n",
            "  1.10845843 -0.03460033 -0.40359084 -0.42190646 -0.83554638  0.70664405\n",
            " -1.44282106 -1.64227637  1.3460329  -0.08087963  0.73663401  1.63275627\n",
            " -0.83750685 -0.90568203 -1.10725303 -0.84699996 -0.07467025  1.18766862\n",
            " -1.95102075  1.00794181  1.26283473 -0.93660345 -0.53614653 -0.82323024\n",
            " -0.10127367 -1.27247398 -0.38693895  0.25609757  0.96241273 -0.09564917\n",
            "  0.11449481 -0.98766104 -0.30187939  0.45657486  0.64144262  0.54615703\n",
            " -0.39220649 -0.3371334  -0.69332485 -1.62016918  0.85826222 -0.8630452\n",
            " -1.42050985  0.90016252 -0.32426594  1.17650552 -0.0617121   0.01442487\n",
            "  0.23932266  1.62457682  0.94612047 -0.9407431  -1.68374738 -0.19261452\n",
            " -1.52657835  1.41867849  0.12765964  0.21127628 -0.01711843 -0.18758461\n",
            "  1.5300005  -1.6060537   0.38342083 -0.22012937 -0.43505269 -0.05115067\n",
            "  0.200279   -0.04605781 -1.49913613  1.22511255 -0.695608    0.12675316\n",
            "  0.4086669  -1.09795452  0.92035217 -0.09620835  0.82469915  1.40470467\n",
            " -0.5913006   0.15532028 -0.92017704  0.38066267  0.81231082  0.57671036\n",
            " -0.71158198 -1.00478107  0.54057874  1.00220488  0.21133701 -1.1269785\n",
            "  0.56116711  0.59198958 -1.32980241  1.87277877 -0.42010282  1.03824238\n",
            "  2.5249273  -0.7675691  -0.17498414 -0.89186341  0.91229164  0.16264769\n",
            " -0.6156128   0.18071367  0.63321226  0.03716784 -0.50019526 -1.16159914\n",
            " -0.17940616 -0.41461225 -0.34175222 -1.85419801  1.97075586  0.47124749\n",
            "  0.42222741 -0.43741728  1.91651851  1.23507344  0.1170305   0.88740303\n",
            " -0.46430791 -0.66989777 -0.62288814  1.57938644 -0.63895486  1.6558383\n",
            "  0.23055015 -1.60121327  0.04296523  1.11778001 -0.94045435  0.46463279\n",
            "  0.14739194 -0.24017678 -0.03290842 -2.01949677  0.93065973 -0.03774782\n",
            " -0.10491532 -0.47776945 -0.54198503 -0.45611935 -0.45695425  1.30204338\n",
            " -1.19528681  0.21080558  1.61120762 -1.06496042  1.41168297  0.17687009\n",
            " -0.06196621  0.94802187  0.68818864 -1.55155161 -0.34027182  0.95578613\n",
            " -1.28411765 -0.23702009 -0.64889478  1.20259679  0.85265739 -0.77747331\n",
            " -0.57980975 -0.76857493 -0.52417636 -0.00832359 -0.55642799 -0.03145685\n",
            " -0.99612855  0.14892952 -0.02909538  1.32247918 -0.23189385 -1.32590966\n",
            " -0.29083021  0.46841701  0.32647895 -0.84946623 -0.80755778 -0.10374741\n",
            " -0.03718286 -1.13553011  0.87486352 -1.56283517 -1.33565815  2.16066249\n",
            " -0.149078    1.8424868   0.34051605  1.23783465  0.92357099 -0.03170823\n",
            " -0.26399844 -0.13658825  0.76925554  1.7651746  -1.13750085 -1.53346874\n",
            " -3.20105979 -0.30861669 -1.03717774 -0.4480803  -0.66681836  1.17280371\n",
            " -1.17851046 -1.19016432  0.9652292   0.41948048 -1.3074482   0.65191558\n",
            " -1.20360183 -1.43076884  0.79938454 -1.50260688 -0.68886055 -0.40634979\n",
            "  0.94745773 -0.08501757  0.91054568 -1.22874221 -0.34657462 -0.27129434\n",
            " -0.11714496 -1.15682838 -0.42294591 -0.26606479  0.76775424  0.53790457\n",
            " -0.5165504   0.61459739  1.67058463  0.92503453  0.04968415 -0.10830224\n",
            "  0.60973362 -0.13365511 -0.1885974   1.46395162  1.88956657  0.28481617\n",
            " -0.95117524 -0.4615766  -0.49886964 -0.13227519  0.33432484 -1.87969774\n",
            "  0.76326304  0.24314735  0.24541163 -0.71611307 -1.04321305 -0.24129722\n",
            "  0.0468663  -0.42195344  1.47228058  0.66131443 -0.12904309  0.76277689\n",
            " -0.13986931  0.46741991  1.35355734 -0.37017898 -0.55863477  0.00340701\n",
            " -1.98458387 -0.05061181  0.68602928 -1.57497701  1.56468463  0.71121894\n",
            " -0.03679103 -1.11144767 -0.838796   -0.72678752  1.04197696  1.01121434\n",
            "  0.2518923  -0.84382823 -0.57028113  0.43588152  0.68707542 -1.00593127\n",
            "  0.29303911  0.21244054 -0.19367761  0.12221265 -0.00349836  0.41894175\n",
            " -0.77982246  0.66542143  0.14020518  0.67492405 -0.50098011 -1.13037926\n",
            "  0.09838246 -1.5696856   1.54103741  0.36426263 -1.6986864   0.14496958\n",
            "  0.62835927 -0.40960876  0.08955726 -0.2375496  -0.88344729 -0.11537876\n",
            " -0.78014969 -0.88327835 -0.80769538  0.62708724  0.86331291 -1.01461264\n",
            "  0.57362145 -0.17870931 -0.05798409  1.07382764 -0.925711    0.56107507\n",
            "  0.61438712  0.72319311 -1.54879304 -0.4044552  -0.61619149  0.7960335\n",
            " -0.63230482 -0.08045107  0.0164194  -0.51517695 -0.79161322  0.43335175\n",
            "  0.32159421  0.03895251 -1.73221642  1.2935483  -0.49628978 -0.10314211\n",
            " -0.72082043  1.08995975  0.40006848  1.96656494 -1.06346003  1.06675066\n",
            "  2.40546367 -0.29418435 -1.96881333 -0.21285677  0.05014249 -0.93229917\n",
            " -0.5878428  -0.09684706  0.31885116 -1.75727146  0.17087262 -0.44558277\n",
            " -0.73948864 -0.40556936  1.42330196  1.76152396  0.88296645 -0.40809869\n",
            "  1.16638545  1.66322745]\n"
          ]
        }
      ],
      "source": [
        "\n",
        "arreglo_aleat = np.random.randn(500)\n",
        "\n",
        "print(arreglo_aleat)\n"
      ]
    }
  ],
  "metadata": {
    "colab": {
      "provenance": []
    },
    "kernelspec": {
      "display_name": "Python 3",
      "language": "python",
      "name": "python3"
    },
    "language_info": {
      "codemirror_mode": {
        "name": "ipython",
        "version": 3
      },
      "file_extension": ".py",
      "mimetype": "text/x-python",
      "name": "python",
      "nbconvert_exporter": "python",
      "pygments_lexer": "ipython3",
      "version": "3.11.7"
    }
  },
  "nbformat": 4,
  "nbformat_minor": 0
}
